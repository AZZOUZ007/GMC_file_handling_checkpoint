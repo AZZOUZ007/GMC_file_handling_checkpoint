{
 "cells": [
  {
   "cell_type": "code",
   "execution_count": 4,
   "id": "87977706",
   "metadata": {},
   "outputs": [],
   "source": [
    "f = open(\"checkpoint.txt\", 'w', encoding='utf-8')\n",
    "for i in range(1,11):\n",
    "    f.write(f\"This is line number {i}\\n\")\n",
    "f.close()\n",
    "        \n",
    "\n",
    "\n"
   ]
  },
  {
   "cell_type": "code",
   "execution_count": 5,
   "id": "370c92ac",
   "metadata": {},
   "outputs": [
    {
     "name": "stdout",
     "output_type": "stream",
     "text": [
      "This is line number 1\n",
      "This is line number 2\n",
      "This is line number 3\n",
      "This is line number 4\n",
      "This is line number 5\n",
      "This is line number 6\n",
      "This is line number 7\n",
      "This is line number 8\n",
      "This is line number 9\n",
      "This is line number 10\n",
      "\n"
     ]
    }
   ],
   "source": [
    "#Read the entire file\n",
    "f = open(\"checkpoint.txt\", 'r')\n",
    "content = f.read()\n",
    "print(content)"
   ]
  },
  {
   "cell_type": "code",
   "execution_count": 11,
   "id": "6c3e61f1",
   "metadata": {},
   "outputs": [
    {
     "name": "stdout",
     "output_type": "stream",
     "text": [
      "how many lines you want to read ?3\n",
      "This is line number 1\n",
      "\n",
      "This is line number 2\n",
      "\n",
      "This is line number 3\n",
      "\n"
     ]
    }
   ],
   "source": [
    "#Read the first n lines of the file:\n",
    "n = int(input(\"how many lines you want to read ?  \"))\n",
    "with open(\"checkpoint.txt\", 'r') as f:\n",
    "    lines = f.readlines()[:n]\n",
    "    for line in lines:\n",
    "        print(line)"
   ]
  },
  {
   "cell_type": "code",
   "execution_count": 12,
   "id": "9f99f89a",
   "metadata": {},
   "outputs": [
    {
     "name": "stdout",
     "output_type": "stream",
     "text": [
      "how many lines you want to read ?  3\n",
      "This is line number 8\n",
      "\n",
      "This is line number 9\n",
      "\n",
      "This is line number 10\n",
      "\n"
     ]
    }
   ],
   "source": [
    "#Python program to read the last n lines of a file.\n",
    "n = int(input(\"how many lines you want to read ?  \"))\n",
    "with open(\"checkpoint.txt\", 'r') as f:\n",
    "    lines = f.readlines()[-n:]\n",
    "    for line in lines:\n",
    "        print(line)"
   ]
  },
  {
   "cell_type": "code",
   "execution_count": 15,
   "id": "6fd0af52",
   "metadata": {},
   "outputs": [
    {
     "name": "stdout",
     "output_type": "stream",
     "text": [
      "Enter file Name : checkpoint\n",
      "50\n"
     ]
    }
   ],
   "source": [
    "#Python program that takes a text file as input and returns the number of words of a given text file.\n",
    "file_name = input('Enter file Name : ')+\".txt\"\n",
    "with open(file_name, 'r') as f:\n",
    "    words = f.read().split()\n",
    "    print(len(words))"
   ]
  },
  {
   "cell_type": "code",
   "execution_count": null,
   "id": "a0cdfce1",
   "metadata": {},
   "outputs": [],
   "source": []
  }
 ],
 "metadata": {
  "kernelspec": {
   "display_name": "Python 3 (ipykernel)",
   "language": "python",
   "name": "python3"
  },
  "language_info": {
   "codemirror_mode": {
    "name": "ipython",
    "version": 3
   },
   "file_extension": ".py",
   "mimetype": "text/x-python",
   "name": "python",
   "nbconvert_exporter": "python",
   "pygments_lexer": "ipython3",
   "version": "3.10.9"
  }
 },
 "nbformat": 4,
 "nbformat_minor": 5
}
